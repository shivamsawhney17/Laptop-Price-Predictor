{
 "cells": [
  {
   "cell_type": "markdown",
   "id": "63105ad0",
   "metadata": {},
   "source": [
    "# Laptop Price Predictor - Team 8"
   ]
  },
  {
   "cell_type": "code",
   "execution_count": 25,
   "id": "97bf2f87",
   "metadata": {
    "execution": {
     "iopub.execute_input": "2022-11-16T06:00:54.250624Z",
     "iopub.status.busy": "2022-11-16T06:00:54.249440Z",
     "iopub.status.idle": "2022-11-16T06:00:54.262092Z",
     "shell.execute_reply": "2022-11-16T06:00:54.261123Z"
    },
    "papermill": {
     "duration": 0.044611,
     "end_time": "2022-11-16T06:00:54.264446",
     "exception": false,
     "start_time": "2022-11-16T06:00:54.219835",
     "status": "completed"
    },
    "tags": []
   },
   "outputs": [],
   "source": [
    "# Importing the Libraries\n",
    "import numpy as np\n",
    "import pandas as pd\n",
    "import matplotlib.pyplot as plt\n",
    "import seaborn as sns\n",
    "from sklearn.model_selection import train_test_split\n",
    "from sklearn.compose import ColumnTransformer\n",
    "from sklearn.pipeline import Pipeline\n",
    "from sklearn.preprocessing import OneHotEncoder\n",
    "from sklearn.metrics import r2_score,mean_absolute_error\n",
    "from sklearn.linear_model import LinearRegression\n",
    "from sklearn.neighbors import KNeighborsRegressor\n",
    "from sklearn.tree import DecisionTreeRegressor\n",
    "from sklearn.ensemble import RandomForestRegressor"
   ]
  },
  {
   "cell_type": "code",
   "execution_count": 2,
   "id": "85302c37",
   "metadata": {
    "execution": {
     "iopub.execute_input": "2022-11-16T06:00:54.315941Z",
     "iopub.status.busy": "2022-11-16T06:00:54.315254Z",
     "iopub.status.idle": "2022-11-16T06:00:54.347274Z",
     "shell.execute_reply": "2022-11-16T06:00:54.346318Z"
    },
    "papermill": {
     "duration": 0.061098,
     "end_time": "2022-11-16T06:00:54.349893",
     "exception": false,
     "start_time": "2022-11-16T06:00:54.288795",
     "status": "completed"
    },
    "tags": []
   },
   "outputs": [],
   "source": [
    "# lodaing the dataset\n",
    "df = pd.read_csv('laptop_data.csv')"
   ]
  },
  {
   "cell_type": "code",
   "execution_count": 3,
   "id": "59e1febd",
   "metadata": {
    "execution": {
     "iopub.execute_input": "2022-11-16T06:00:54.401654Z",
     "iopub.status.busy": "2022-11-16T06:00:54.401058Z",
     "iopub.status.idle": "2022-11-16T06:00:54.433898Z",
     "shell.execute_reply": "2022-11-16T06:00:54.432649Z"
    },
    "papermill": {
     "duration": 0.061979,
     "end_time": "2022-11-16T06:00:54.436783",
     "exception": false,
     "start_time": "2022-11-16T06:00:54.374804",
     "status": "completed"
    },
    "tags": []
   },
   "outputs": [
    {
     "data": {
      "text/html": [
       "<div>\n",
       "<style scoped>\n",
       "    .dataframe tbody tr th:only-of-type {\n",
       "        vertical-align: middle;\n",
       "    }\n",
       "\n",
       "    .dataframe tbody tr th {\n",
       "        vertical-align: top;\n",
       "    }\n",
       "\n",
       "    .dataframe thead th {\n",
       "        text-align: right;\n",
       "    }\n",
       "</style>\n",
       "<table border=\"1\" class=\"dataframe\">\n",
       "  <thead>\n",
       "    <tr style=\"text-align: right;\">\n",
       "      <th></th>\n",
       "      <th>Unnamed: 0</th>\n",
       "      <th>Company</th>\n",
       "      <th>TypeName</th>\n",
       "      <th>Inches</th>\n",
       "      <th>ScreenResolution</th>\n",
       "      <th>Cpu</th>\n",
       "      <th>Ram</th>\n",
       "      <th>Memory</th>\n",
       "      <th>Gpu</th>\n",
       "      <th>OpSys</th>\n",
       "      <th>Weight</th>\n",
       "      <th>Price</th>\n",
       "    </tr>\n",
       "  </thead>\n",
       "  <tbody>\n",
       "    <tr>\n",
       "      <th>0</th>\n",
       "      <td>0</td>\n",
       "      <td>Apple</td>\n",
       "      <td>Ultrabook</td>\n",
       "      <td>13.3</td>\n",
       "      <td>IPS Panel Retina Display 2560x1600</td>\n",
       "      <td>Intel Core i5 2.3GHz</td>\n",
       "      <td>8GB</td>\n",
       "      <td>128GB SSD</td>\n",
       "      <td>Intel Iris Plus Graphics 640</td>\n",
       "      <td>macOS</td>\n",
       "      <td>1.37kg</td>\n",
       "      <td>71378.6832</td>\n",
       "    </tr>\n",
       "    <tr>\n",
       "      <th>1</th>\n",
       "      <td>1</td>\n",
       "      <td>Apple</td>\n",
       "      <td>Ultrabook</td>\n",
       "      <td>13.3</td>\n",
       "      <td>1440x900</td>\n",
       "      <td>Intel Core i5 1.8GHz</td>\n",
       "      <td>8GB</td>\n",
       "      <td>128GB Flash Storage</td>\n",
       "      <td>Intel HD Graphics 6000</td>\n",
       "      <td>macOS</td>\n",
       "      <td>1.34kg</td>\n",
       "      <td>47895.5232</td>\n",
       "    </tr>\n",
       "    <tr>\n",
       "      <th>2</th>\n",
       "      <td>2</td>\n",
       "      <td>HP</td>\n",
       "      <td>Notebook</td>\n",
       "      <td>15.6</td>\n",
       "      <td>Full HD 1920x1080</td>\n",
       "      <td>Intel Core i5 7200U 2.5GHz</td>\n",
       "      <td>8GB</td>\n",
       "      <td>256GB SSD</td>\n",
       "      <td>Intel HD Graphics 620</td>\n",
       "      <td>No OS</td>\n",
       "      <td>1.86kg</td>\n",
       "      <td>30636.0000</td>\n",
       "    </tr>\n",
       "    <tr>\n",
       "      <th>3</th>\n",
       "      <td>3</td>\n",
       "      <td>Apple</td>\n",
       "      <td>Ultrabook</td>\n",
       "      <td>15.4</td>\n",
       "      <td>IPS Panel Retina Display 2880x1800</td>\n",
       "      <td>Intel Core i7 2.7GHz</td>\n",
       "      <td>16GB</td>\n",
       "      <td>512GB SSD</td>\n",
       "      <td>AMD Radeon Pro 455</td>\n",
       "      <td>macOS</td>\n",
       "      <td>1.83kg</td>\n",
       "      <td>135195.3360</td>\n",
       "    </tr>\n",
       "    <tr>\n",
       "      <th>4</th>\n",
       "      <td>4</td>\n",
       "      <td>Apple</td>\n",
       "      <td>Ultrabook</td>\n",
       "      <td>13.3</td>\n",
       "      <td>IPS Panel Retina Display 2560x1600</td>\n",
       "      <td>Intel Core i5 3.1GHz</td>\n",
       "      <td>8GB</td>\n",
       "      <td>256GB SSD</td>\n",
       "      <td>Intel Iris Plus Graphics 650</td>\n",
       "      <td>macOS</td>\n",
       "      <td>1.37kg</td>\n",
       "      <td>96095.8080</td>\n",
       "    </tr>\n",
       "  </tbody>\n",
       "</table>\n",
       "</div>"
      ],
      "text/plain": [
       "   Unnamed: 0 Company   TypeName  Inches                    ScreenResolution  \\\n",
       "0           0   Apple  Ultrabook    13.3  IPS Panel Retina Display 2560x1600   \n",
       "1           1   Apple  Ultrabook    13.3                            1440x900   \n",
       "2           2      HP   Notebook    15.6                   Full HD 1920x1080   \n",
       "3           3   Apple  Ultrabook    15.4  IPS Panel Retina Display 2880x1800   \n",
       "4           4   Apple  Ultrabook    13.3  IPS Panel Retina Display 2560x1600   \n",
       "\n",
       "                          Cpu   Ram               Memory  \\\n",
       "0        Intel Core i5 2.3GHz   8GB            128GB SSD   \n",
       "1        Intel Core i5 1.8GHz   8GB  128GB Flash Storage   \n",
       "2  Intel Core i5 7200U 2.5GHz   8GB            256GB SSD   \n",
       "3        Intel Core i7 2.7GHz  16GB            512GB SSD   \n",
       "4        Intel Core i5 3.1GHz   8GB            256GB SSD   \n",
       "\n",
       "                            Gpu  OpSys  Weight        Price  \n",
       "0  Intel Iris Plus Graphics 640  macOS  1.37kg   71378.6832  \n",
       "1        Intel HD Graphics 6000  macOS  1.34kg   47895.5232  \n",
       "2         Intel HD Graphics 620  No OS  1.86kg   30636.0000  \n",
       "3            AMD Radeon Pro 455  macOS  1.83kg  135195.3360  \n",
       "4  Intel Iris Plus Graphics 650  macOS  1.37kg   96095.8080  "
      ]
     },
     "execution_count": 3,
     "metadata": {},
     "output_type": "execute_result"
    }
   ],
   "source": [
    "# Lets look at the dataset\n",
    "df.head()"
   ]
  },
  {
   "cell_type": "code",
   "execution_count": 4,
   "id": "02f73424",
   "metadata": {
    "execution": {
     "iopub.execute_input": "2022-11-16T06:00:54.487498Z",
     "iopub.status.busy": "2022-11-16T06:00:54.487092Z",
     "iopub.status.idle": "2022-11-16T06:00:54.493711Z",
     "shell.execute_reply": "2022-11-16T06:00:54.492515Z"
    },
    "papermill": {
     "duration": 0.035013,
     "end_time": "2022-11-16T06:00:54.496169",
     "exception": false,
     "start_time": "2022-11-16T06:00:54.461156",
     "status": "completed"
    },
    "tags": []
   },
   "outputs": [
    {
     "data": {
      "text/plain": [
       "(1303, 12)"
      ]
     },
     "execution_count": 4,
     "metadata": {},
     "output_type": "execute_result"
    }
   ],
   "source": [
    "# Checking the shape of the dataset\n",
    "df.shape"
   ]
  },
  {
   "cell_type": "code",
   "execution_count": 5,
   "id": "5bf3d3dd",
   "metadata": {
    "execution": {
     "iopub.execute_input": "2022-11-16T06:00:54.546869Z",
     "iopub.status.busy": "2022-11-16T06:00:54.546435Z",
     "iopub.status.idle": "2022-11-16T06:00:54.573066Z",
     "shell.execute_reply": "2022-11-16T06:00:54.571966Z"
    },
    "papermill": {
     "duration": 0.055829,
     "end_time": "2022-11-16T06:00:54.576219",
     "exception": false,
     "start_time": "2022-11-16T06:00:54.520390",
     "status": "completed"
    },
    "tags": []
   },
   "outputs": [
    {
     "name": "stdout",
     "output_type": "stream",
     "text": [
      "<class 'pandas.core.frame.DataFrame'>\n",
      "RangeIndex: 1303 entries, 0 to 1302\n",
      "Data columns (total 12 columns):\n",
      " #   Column            Non-Null Count  Dtype  \n",
      "---  ------            --------------  -----  \n",
      " 0   Unnamed: 0        1303 non-null   int64  \n",
      " 1   Company           1303 non-null   object \n",
      " 2   TypeName          1303 non-null   object \n",
      " 3   Inches            1303 non-null   float64\n",
      " 4   ScreenResolution  1303 non-null   object \n",
      " 5   Cpu               1303 non-null   object \n",
      " 6   Ram               1303 non-null   object \n",
      " 7   Memory            1303 non-null   object \n",
      " 8   Gpu               1303 non-null   object \n",
      " 9   OpSys             1303 non-null   object \n",
      " 10  Weight            1303 non-null   object \n",
      " 11  Price             1303 non-null   float64\n",
      "dtypes: float64(2), int64(1), object(9)\n",
      "memory usage: 122.3+ KB\n"
     ]
    }
   ],
   "source": [
    "# More info on the dataset\n",
    "df.info()"
   ]
  },
  {
   "cell_type": "code",
   "execution_count": 6,
   "id": "17561015",
   "metadata": {
    "execution": {
     "iopub.execute_input": "2022-11-16T06:00:54.627683Z",
     "iopub.status.busy": "2022-11-16T06:00:54.626628Z",
     "iopub.status.idle": "2022-11-16T06:00:54.639220Z",
     "shell.execute_reply": "2022-11-16T06:00:54.638020Z"
    },
    "papermill": {
     "duration": 0.040963,
     "end_time": "2022-11-16T06:00:54.641689",
     "exception": false,
     "start_time": "2022-11-16T06:00:54.600726",
     "status": "completed"
    },
    "tags": []
   },
   "outputs": [
    {
     "data": {
      "text/plain": [
       "0"
      ]
     },
     "execution_count": 6,
     "metadata": {},
     "output_type": "execute_result"
    }
   ],
   "source": [
    "# Checking for duplicate values of data\n",
    "df.duplicated().sum()"
   ]
  },
  {
   "cell_type": "markdown",
   "id": "46850ae8",
   "metadata": {},
   "source": [
    "# Data Preprocessing and Visualization"
   ]
  },
  {
   "cell_type": "code",
   "execution_count": 7,
   "id": "651f9a49",
   "metadata": {},
   "outputs": [],
   "source": [
    "df=df.drop(\"Unnamed: 0\", axis=1)"
   ]
  },
  {
   "cell_type": "code",
   "execution_count": 8,
   "id": "2950e69d",
   "metadata": {
    "execution": {
     "iopub.execute_input": "2022-11-16T06:00:54.695226Z",
     "iopub.status.busy": "2022-11-16T06:00:54.694832Z",
     "iopub.status.idle": "2022-11-16T06:00:54.704036Z",
     "shell.execute_reply": "2022-11-16T06:00:54.703155Z"
    },
    "papermill": {
     "duration": 0.039133,
     "end_time": "2022-11-16T06:00:54.706125",
     "exception": false,
     "start_time": "2022-11-16T06:00:54.666992",
     "status": "completed"
    },
    "tags": []
   },
   "outputs": [
    {
     "data": {
      "text/plain": [
       "Company             0\n",
       "TypeName            0\n",
       "Inches              0\n",
       "ScreenResolution    0\n",
       "Cpu                 0\n",
       "Ram                 0\n",
       "Memory              0\n",
       "Gpu                 0\n",
       "OpSys               0\n",
       "Weight              0\n",
       "Price               0\n",
       "dtype: int64"
      ]
     },
     "execution_count": 8,
     "metadata": {},
     "output_type": "execute_result"
    }
   ],
   "source": [
    "# Checking null values in the dataset\n",
    "df.isnull().sum()"
   ]
  },
  {
   "cell_type": "code",
   "execution_count": 10,
   "id": "b057e539",
   "metadata": {
    "execution": {
     "iopub.execute_input": "2022-11-16T06:00:54.906647Z",
     "iopub.status.busy": "2022-11-16T06:00:54.906271Z",
     "iopub.status.idle": "2022-11-16T06:00:54.915713Z",
     "shell.execute_reply": "2022-11-16T06:00:54.914606Z"
    },
    "papermill": {
     "duration": 0.041677,
     "end_time": "2022-11-16T06:00:54.918082",
     "exception": false,
     "start_time": "2022-11-16T06:00:54.876405",
     "status": "completed"
    },
    "tags": []
   },
   "outputs": [],
   "source": [
    "df['Ram'] = df['Ram'].str.replace('GB','')\n",
    "df['Weight'] = df['Weight'].str.replace('kg','')\n",
    "df['Ram'] = df['Ram'].astype('int32')\n",
    "df['Weight'] = df['Weight'].astype('float32')"
   ]
  },
  {
   "cell_type": "markdown",
   "id": "32ae4a71",
   "metadata": {},
   "source": [
    "Checking the `Price` attribute, we can see that it is somehow left-skewed, with majority of the laptops bein in the range of `50,000-150,000`"
   ]
  },
  {
   "cell_type": "code",
   "execution_count": 27,
   "id": "f624d48e",
   "metadata": {
    "execution": {
     "iopub.execute_input": "2022-11-16T06:00:56.283597Z",
     "iopub.status.busy": "2022-11-16T06:00:56.282929Z",
     "iopub.status.idle": "2022-11-16T06:00:56.631744Z",
     "shell.execute_reply": "2022-11-16T06:00:56.630445Z"
    },
    "papermill": {
     "duration": 0.378192,
     "end_time": "2022-11-16T06:00:56.634297",
     "exception": false,
     "start_time": "2022-11-16T06:00:56.256105",
     "status": "completed"
    },
    "scrolled": false,
    "tags": []
   },
   "outputs": [
    {
     "name": "stderr",
     "output_type": "stream",
     "text": [
      "C:\\Users\\shiva\\anaconda3\\lib\\site-packages\\seaborn\\distributions.py:2619: FutureWarning: `distplot` is a deprecated function and will be removed in a future version. Please adapt your code to use either `displot` (a figure-level function with similar flexibility) or `histplot` (an axes-level function for histograms).\n",
      "  warnings.warn(msg, FutureWarning)\n"
     ]
    },
    {
     "data": {
      "text/plain": [
       "<AxesSubplot:xlabel='Price', ylabel='Density'>"
      ]
     },
     "execution_count": 27,
     "metadata": {},
     "output_type": "execute_result"
    },
    {
     "data": {
      "image/png": "[encoded data removed]",
      "text/plain": [
       "<Figure size 432x288 with 1 Axes>"
      ]
     },
     "metadata": {
      "needs_background": "light"
     },
     "output_type": "display_data"
    }
   ],
   "source": [
    "sns.distplot(df['Price'])"
   ]
  },
  {
   "cell_type": "markdown",
   "id": "92e91984",
   "metadata": {},
   "source": [
    "Lets have a look at the different laptop brands - we can see that `Dell` dominates the dataset"
   ]
  },
  {
   "cell_type": "code",
   "execution_count": 16,
   "id": "7059245b",
   "metadata": {
    "execution": {
     "iopub.execute_input": "2022-11-16T06:00:56.691247Z",
     "iopub.status.busy": "2022-11-16T06:00:56.690259Z",
     "iopub.status.idle": "2022-11-16T06:00:56.999575Z",
     "shell.execute_reply": "2022-11-16T06:00:56.998427Z"
    },
    "papermill": {
     "duration": 0.342004,
     "end_time": "2022-11-16T06:00:57.002505",
     "exception": false,
     "start_time": "2022-11-16T06:00:56.660501",
     "status": "completed"
    },
    "scrolled": false,
    "tags": []
   },
   "outputs": [
    {
     "data": {
      "text/plain": [
       "<AxesSubplot:>"
      ]
     },
     "execution_count": 16,
     "metadata": {},
     "output_type": "execute_result"
    },
    {
     "data": {
      "image/png": "[encoded data removed]",
      "text/plain": [
       "<Figure size 432x288 with 1 Axes>"
      ]
     },
     "metadata": {
      "needs_background": "light"
     },
     "output_type": "display_data"
    }
   ],
   "source": [
    "df['Company'].value_counts().plot(kind='bar')"
   ]
  },
  {
   "cell_type": "markdown",
   "id": "fecc2e0c",
   "metadata": {},
   "source": [
    "How does the brand relate to pricing of a laptop ? Of course, the more extablised brands will sell their latops at a higher price than their competitors"
   ]
  },
  {
   "cell_type": "code",
   "execution_count": 17,
   "id": "8d4d7ea9",
   "metadata": {
    "execution": {
     "iopub.execute_input": "2022-11-16T06:00:57.057778Z",
     "iopub.status.busy": "2022-11-16T06:00:57.057326Z",
     "iopub.status.idle": "2022-11-16T06:00:57.779716Z",
     "shell.execute_reply": "2022-11-16T06:00:57.778283Z"
    },
    "papermill": {
     "duration": 0.753039,
     "end_time": "2022-11-16T06:00:57.782475",
     "exception": false,
     "start_time": "2022-11-16T06:00:57.029436",
     "status": "completed"
    },
    "scrolled": true,
    "tags": []
   },
   "outputs": [
    {
     "data": {
      "image/png": "[encoded data removed]",
      "text/plain": [
       "<Figure size 432x288 with 1 Axes>"
      ]
     },
     "metadata": {
      "needs_background": "light"
     },
     "output_type": "display_data"
    }
   ],
   "source": [
    "sns.barplot(x=df['Company'],y=df['Price'])\n",
    "plt.xticks(rotation='vertical')\n",
    "plt.show()"
   ]
  },
  {
   "cell_type": "markdown",
   "id": "dd076d98",
   "metadata": {},
   "source": [
    "What different kinds of laptops we are dealing with?"
   ]
  },
  {
   "cell_type": "code",
   "execution_count": 18,
   "id": "a77d064e",
   "metadata": {
    "execution": {
     "iopub.execute_input": "2022-11-16T06:00:57.837304Z",
     "iopub.status.busy": "2022-11-16T06:00:57.836920Z",
     "iopub.status.idle": "2022-11-16T06:00:58.041488Z",
     "shell.execute_reply": "2022-11-16T06:00:58.040562Z"
    },
    "papermill": {
     "duration": 0.234766,
     "end_time": "2022-11-16T06:00:58.043798",
     "exception": false,
     "start_time": "2022-11-16T06:00:57.809032",
     "status": "completed"
    },
    "tags": []
   },
   "outputs": [
    {
     "data": {
      "text/plain": [
       "<AxesSubplot:>"
      ]
     },
     "execution_count": 18,
     "metadata": {},
     "output_type": "execute_result"
    },
    {
     "data": {
      "image/png": "[encoded data removed]",
      "text/plain": [
       "<Figure size 432x288 with 1 Axes>"
      ]
     },
     "metadata": {
      "needs_background": "light"
     },
     "output_type": "display_data"
    }
   ],
   "source": [
    "df['TypeName'].value_counts().plot(kind='bar')"
   ]
  },
  {
   "cell_type": "markdown",
   "id": "5614d548",
   "metadata": {},
   "source": [
    "How is a specific type of laptop related to price? Is a `Gaming` laptop more expensive? What about others? Turns out that `Workstation` is the most expensive"
   ]
  },
  {
   "cell_type": "code",
   "execution_count": 28,
   "id": "c971af2c",
   "metadata": {
    "execution": {
     "iopub.execute_input": "2022-11-16T06:00:58.099542Z",
     "iopub.status.busy": "2022-11-16T06:00:58.098846Z",
     "iopub.status.idle": "2022-11-16T06:00:58.461889Z",
     "shell.execute_reply": "2022-11-16T06:00:58.460737Z"
    },
    "papermill": {
     "duration": 0.393883,
     "end_time": "2022-11-16T06:00:58.464574",
     "exception": false,
     "start_time": "2022-11-16T06:00:58.070691",
     "status": "completed"
    },
    "scrolled": true,
    "tags": []
   },
   "outputs": [
    {
     "data": {
      "image/png": "[encoded data removed]",
      "text/plain": [
       "<Figure size 432x288 with 1 Axes>"
      ]
     },
     "metadata": {
      "needs_background": "light"
     },
     "output_type": "display_data"
    }
   ],
   "source": [
    "sns.barplot(x=df['TypeName'],y=df['Price'])\n",
    "plt.xticks(rotation='vertical')\n",
    "plt.show()"
   ]
  },
  {
   "cell_type": "markdown",
   "id": "226903ea",
   "metadata": {},
   "source": [
    "Lets have a look at the density of `inches` - which is the screen size of the laptop. And the winner is `15.5 - 16 inches`"
   ]
  },
  {
   "cell_type": "code",
   "execution_count": 20,
   "id": "5e2c6cd3",
   "metadata": {
    "execution": {
     "iopub.execute_input": "2022-11-16T06:00:58.520807Z",
     "iopub.status.busy": "2022-11-16T06:00:58.520336Z",
     "iopub.status.idle": "2022-11-16T06:00:58.784550Z",
     "shell.execute_reply": "2022-11-16T06:00:58.783117Z"
    },
    "papermill": {
     "duration": 0.2961,
     "end_time": "2022-11-16T06:00:58.787820",
     "exception": false,
     "start_time": "2022-11-16T06:00:58.491720",
     "status": "completed"
    },
    "tags": []
   },
   "outputs": [
    {
     "name": "stderr",
     "output_type": "stream",
     "text": [
      "C:\\Users\\shiva\\anaconda3\\lib\\site-packages\\seaborn\\distributions.py:2619: FutureWarning: `distplot` is a deprecated function and will be removed in a future version. Please adapt your code to use either `displot` (a figure-level function with similar flexibility) or `histplot` (an axes-level function for histograms).\n",
      "  warnings.warn(msg, FutureWarning)\n"
     ]
    },
    {
     "data": {
      "text/plain": [
       "<AxesSubplot:xlabel='Inches', ylabel='Density'>"
      ]
     },
     "execution_count": 20,
     "metadata": {},
     "output_type": "execute_result"
    },
    {
     "data": {
      "image/png": "[encoded data removed]",
      "text/plain": [
       "<Figure size 432x288 with 1 Axes>"
      ]
     },
     "metadata": {
      "needs_background": "light"
     },
     "output_type": "display_data"
    }
   ],
   "source": [
    "sns.distplot(df['Inches'])"
   ]
  },
  {
   "cell_type": "markdown",
   "id": "710aba90",
   "metadata": {},
   "source": [
    "We defined a seperate column for `Touchscreen` and visualized it"
   ]
  },
  {
   "cell_type": "code",
   "execution_count": 21,
   "id": "f875aee7",
   "metadata": {
    "execution": {
     "iopub.execute_input": "2022-11-16T06:00:59.242061Z",
     "iopub.status.busy": "2022-11-16T06:00:59.240874Z",
     "iopub.status.idle": "2022-11-16T06:00:59.248387Z",
     "shell.execute_reply": "2022-11-16T06:00:59.247536Z"
    },
    "papermill": {
     "duration": 0.041048,
     "end_time": "2022-11-16T06:00:59.250837",
     "exception": false,
     "start_time": "2022-11-16T06:00:59.209789",
     "status": "completed"
    },
    "tags": []
   },
   "outputs": [],
   "source": [
    "df['Touchscreen'] = df['ScreenResolution'].apply(lambda x:1 if 'Touchscreen' in x else 0)"
   ]
  },
  {
   "cell_type": "code",
   "execution_count": 23,
   "id": "2d7950e8",
   "metadata": {
    "execution": {
     "iopub.execute_input": "2022-11-16T06:00:59.394266Z",
     "iopub.status.busy": "2022-11-16T06:00:59.393128Z",
     "iopub.status.idle": "2022-11-16T06:00:59.568131Z",
     "shell.execute_reply": "2022-11-16T06:00:59.566625Z"
    },
    "papermill": {
     "duration": 0.20783,
     "end_time": "2022-11-16T06:00:59.571126",
     "exception": false,
     "start_time": "2022-11-16T06:00:59.363296",
     "status": "completed"
    },
    "tags": []
   },
   "outputs": [
    {
     "data": {
      "text/plain": [
       "<AxesSubplot:>"
      ]
     },
     "execution_count": 23,
     "metadata": {},
     "output_type": "execute_result"
    },
    {
     "data": {
      "image/png": "[encoded data removed]",
      "text/plain": [
       "<Figure size 432x288 with 1 Axes>"
      ]
     },
     "metadata": {
      "needs_background": "light"
     },
     "output_type": "display_data"
    }
   ],
   "source": [
    "df['Touchscreen'].value_counts().plot(kind='bar')"
   ]
  },
  {
   "cell_type": "markdown",
   "id": "68792197",
   "metadata": {},
   "source": [
    "What effect does `Touchscreen` have on the price of laptop? They are more expensive!"
   ]
  },
  {
   "cell_type": "code",
   "execution_count": 117,
   "id": "12ed0dc3",
   "metadata": {
    "execution": {
     "iopub.execute_input": "2022-11-16T06:00:59.638957Z",
     "iopub.status.busy": "2022-11-16T06:00:59.637861Z",
     "iopub.status.idle": "2022-11-16T06:00:59.901913Z",
     "shell.execute_reply": "2022-11-16T06:00:59.900609Z"
    },
    "papermill": {
     "duration": 0.297793,
     "end_time": "2022-11-16T06:00:59.904414",
     "exception": false,
     "start_time": "2022-11-16T06:00:59.606621",
     "status": "completed"
    },
    "scrolled": true,
    "tags": []
   },
   "outputs": [
    {
     "data": {
      "text/plain": [
       "<AxesSubplot:xlabel='Touchscreen', ylabel='Price'>"
      ]
     },
     "execution_count": 117,
     "metadata": {},
     "output_type": "execute_result"
    },
    {
     "data": {
      "image/png": "[encoded data removed]",
      "text/plain": [
       "<Figure size 432x288 with 1 Axes>"
      ]
     },
     "metadata": {
      "needs_background": "light"
     },
     "output_type": "display_data"
    }
   ],
   "source": [
    "sns.barplot(x=df['Touchscreen'],y=df['Price'])"
   ]
  },
  {
   "cell_type": "markdown",
   "id": "c7aa9f1e",
   "metadata": {},
   "source": [
    "Since, we have the screen resolution and the size of the laptop in inches, we can go ahead and find the `Pixels per Inch` count, and check and see if this attribute has any importance to the price of a laptop"
   ]
  },
  {
   "cell_type": "code",
   "execution_count": 122,
   "id": "1aa40a90",
   "metadata": {
    "execution": {
     "iopub.execute_input": "2022-11-16T06:01:00.649936Z",
     "iopub.status.busy": "2022-11-16T06:01:00.649054Z",
     "iopub.status.idle": "2022-11-16T06:01:00.658153Z",
     "shell.execute_reply": "2022-11-16T06:01:00.656969Z"
    },
    "papermill": {
     "duration": 0.043896,
     "end_time": "2022-11-16T06:01:00.660599",
     "exception": false,
     "start_time": "2022-11-16T06:01:00.616703",
     "status": "completed"
    },
    "tags": []
   },
   "outputs": [],
   "source": [
    "new = df['ScreenResolution'].str.split('x',n=1,expand=True)\n",
    "df['X_res'] = df['X_res'].str.replace(',','').str.findall(r'(\\d+\\.?\\d+)').apply(lambda x:x[0])\n",
    "df['X_res'] = new[0]\n",
    "df['Y_res'] = new[1]\n",
    "df['X_res'] = df['X_res'].astype('int')\n",
    "df['Y_res'] = df['Y_res'].astype('int')\n",
    "df['ppi'] = (((df['X_res']**2) + (df['Y_res']**2))**0.5/df['Inches']).astype('float')"
   ]
  },
  {
   "cell_type": "code",
   "execution_count": 132,
   "id": "af8da35c",
   "metadata": {
    "execution": {
     "iopub.execute_input": "2022-11-16T06:01:01.429335Z",
     "iopub.status.busy": "2022-11-16T06:01:01.428417Z",
     "iopub.status.idle": "2022-11-16T06:01:01.436464Z",
     "shell.execute_reply": "2022-11-16T06:01:01.435295Z"
    },
    "papermill": {
     "duration": 0.043997,
     "end_time": "2022-11-16T06:01:01.439109",
     "exception": false,
     "start_time": "2022-11-16T06:01:01.395112",
     "status": "completed"
    },
    "tags": []
   },
   "outputs": [],
   "source": [
    "df.drop(columns=['ScreenResolution'],inplace=True)\n",
    "df.drop(columns=['Inches','X_res','Y_res'],inplace=True)"
   ]
  },
  {
   "cell_type": "markdown",
   "id": "46882068",
   "metadata": {},
   "source": [
    "Lets segregate, the CPU name and its brand"
   ]
  },
  {
   "cell_type": "code",
   "execution_count": 136,
   "id": "f471aeed",
   "metadata": {
    "execution": {
     "iopub.execute_input": "2022-11-16T06:01:01.830380Z",
     "iopub.status.busy": "2022-11-16T06:01:01.829546Z",
     "iopub.status.idle": "2022-11-16T06:01:01.837504Z",
     "shell.execute_reply": "2022-11-16T06:01:01.836536Z"
    },
    "papermill": {
     "duration": 0.044491,
     "end_time": "2022-11-16T06:01:01.840054",
     "exception": false,
     "start_time": "2022-11-16T06:01:01.795563",
     "status": "completed"
    },
    "tags": []
   },
   "outputs": [],
   "source": [
    "df['Cpu Name'] = df['Cpu'].apply(lambda x:\" \".join(x.split()[0:3]))"
   ]
  },
  {
   "cell_type": "code",
   "execution_count": 137,
   "id": "5405e6e2",
   "metadata": {},
   "outputs": [],
   "source": [
    "def fetch_processor(text):\n",
    "    if text == 'Intel Core i7' or text == 'Intel Core i5' or text == 'Intel Core i3':\n",
    "        return text\n",
    "    else:\n",
    "        if text.split()[0] == 'Intel':\n",
    "            return 'Other Intel Processor'\n",
    "        else:\n",
    "            return 'AMD Processor'"
   ]
  },
  {
   "cell_type": "code",
   "execution_count": 138,
   "id": "5f27f987",
   "metadata": {},
   "outputs": [],
   "source": [
    "df['Cpu brand'] = df['Cpu Name'].apply(fetch_processor)"
   ]
  },
  {
   "cell_type": "code",
   "execution_count": 141,
   "id": "17279e18",
   "metadata": {
    "execution": {
     "iopub.execute_input": "2022-11-16T06:01:02.879637Z",
     "iopub.status.busy": "2022-11-16T06:01:02.878858Z",
     "iopub.status.idle": "2022-11-16T06:01:02.885640Z",
     "shell.execute_reply": "2022-11-16T06:01:02.884727Z"
    },
    "papermill": {
     "duration": 0.044176,
     "end_time": "2022-11-16T06:01:02.888033",
     "exception": false,
     "start_time": "2022-11-16T06:01:02.843857",
     "status": "completed"
    },
    "tags": []
   },
   "outputs": [],
   "source": [
    "df.drop(columns=['Cpu','Cpu Name'],inplace=True)"
   ]
  },
  {
   "cell_type": "markdown",
   "id": "6e801dc7",
   "metadata": {},
   "source": [
    "The memory column of the data needed attention. It had a lot of different values, multiple memorys' and different kinds of memories. Standardizing all this data into seperate columns"
   ]
  },
  {
   "cell_type": "code",
   "execution_count": 145,
   "id": "ec0b7c27",
   "metadata": {
    "execution": {
     "iopub.execute_input": "2022-11-16T06:01:04.024319Z",
     "iopub.status.busy": "2022-11-16T06:01:04.023195Z",
     "iopub.status.idle": "2022-11-16T06:01:04.071402Z",
     "shell.execute_reply": "2022-11-16T06:01:04.070310Z"
    },
    "papermill": {
     "duration": 0.086261,
     "end_time": "2022-11-16T06:01:04.074281",
     "exception": false,
     "start_time": "2022-11-16T06:01:03.988020",
     "status": "completed"
    },
    "tags": []
   },
   "outputs": [
    {
     "name": "stderr",
     "output_type": "stream",
     "text": [
      "C:\\Users\\shiva\\AppData\\Local\\Temp\\ipykernel_3756\\4023190604.py:16: FutureWarning: The default value of regex will change from True to False in a future version.\n",
      "  df['first'] = df['first'].str.replace(r'\\D', '')\n",
      "C:\\Users\\shiva\\AppData\\Local\\Temp\\ipykernel_3756\\4023190604.py:25: FutureWarning: The default value of regex will change from True to False in a future version.\n",
      "  df['second'] = df['second'].str.replace(r'\\D', '')\n"
     ]
    }
   ],
   "source": [
    "df['Memory'] = df['Memory'].astype(str).replace('\\.0', '', regex=True)\n",
    "df[\"Memory\"] = df[\"Memory\"].str.replace('GB', '')\n",
    "df[\"Memory\"] = df[\"Memory\"].str.replace('TB', '000')\n",
    "new = df[\"Memory\"].str.split(\"+\", n = 1, expand = True)\n",
    "\n",
    "df[\"first\"]= new[0]\n",
    "df[\"first\"]=df[\"first\"].str.strip()\n",
    "\n",
    "df[\"second\"]= new[1]\n",
    "\n",
    "df[\"Layer1HDD\"] = df[\"first\"].apply(lambda x: 1 if \"HDD\" in x else 0)\n",
    "df[\"Layer1SSD\"] = df[\"first\"].apply(lambda x: 1 if \"SSD\" in x else 0)\n",
    "df[\"Layer1Hybrid\"] = df[\"first\"].apply(lambda x: 1 if \"Hybrid\" in x else 0)\n",
    "df[\"Layer1Flash_Storage\"] = df[\"first\"].apply(lambda x: 1 if \"Flash Storage\" in x else 0)\n",
    "\n",
    "df['first'] = df['first'].str.replace(r'\\D', '')\n",
    "\n",
    "df[\"second\"].fillna(\"0\", inplace = True)\n",
    "\n",
    "df[\"Layer2HDD\"] = df[\"second\"].apply(lambda x: 1 if \"HDD\" in x else 0)\n",
    "df[\"Layer2SSD\"] = df[\"second\"].apply(lambda x: 1 if \"SSD\" in x else 0)\n",
    "df[\"Layer2Hybrid\"] = df[\"second\"].apply(lambda x: 1 if \"Hybrid\" in x else 0)\n",
    "df[\"Layer2Flash_Storage\"] = df[\"second\"].apply(lambda x: 1 if \"Flash Storage\" in x else 0)\n",
    "\n",
    "df['second'] = df['second'].str.replace(r'\\D', '')\n",
    "\n",
    "df[\"first\"] = df[\"first\"].astype(int)\n",
    "df[\"second\"] = df[\"second\"].astype(int)\n",
    "\n",
    "df[\"HDD\"]=(df[\"first\"]*df[\"Layer1HDD\"]+df[\"second\"]*df[\"Layer2HDD\"])\n",
    "df[\"SSD\"]=(df[\"first\"]*df[\"Layer1SSD\"]+df[\"second\"]*df[\"Layer2SSD\"])\n",
    "df[\"Hybrid\"]=(df[\"first\"]*df[\"Layer1Hybrid\"]+df[\"second\"]*df[\"Layer2Hybrid\"])\n",
    "df[\"Flash_Storage\"]=(df[\"first\"]*df[\"Layer1Flash_Storage\"]+df[\"second\"]*df[\"Layer2Flash_Storage\"])\n",
    "\n",
    "df.drop(columns=['first', 'second', 'Layer1HDD', 'Layer1SSD', 'Layer1Hybrid',\n",
    "       'Layer1Flash_Storage', 'Layer2HDD', 'Layer2SSD', 'Layer2Hybrid',\n",
    "       'Layer2Flash_Storage', 'Memory'],inplace=True)"
   ]
  },
  {
   "cell_type": "markdown",
   "id": "f332ecfc",
   "metadata": {},
   "source": [
    "Similarly, we did it for `Ips` and checked it relation to pricing of a laptop"
   ]
  },
  {
   "cell_type": "code",
   "execution_count": 118,
   "id": "abc3b778",
   "metadata": {
    "execution": {
     "iopub.execute_input": "2022-11-16T06:00:59.966099Z",
     "iopub.status.busy": "2022-11-16T06:00:59.965146Z",
     "iopub.status.idle": "2022-11-16T06:00:59.973516Z",
     "shell.execute_reply": "2022-11-16T06:00:59.972050Z"
    },
    "papermill": {
     "duration": 0.041282,
     "end_time": "2022-11-16T06:00:59.976001",
     "exception": false,
     "start_time": "2022-11-16T06:00:59.934719",
     "status": "completed"
    },
    "tags": []
   },
   "outputs": [],
   "source": [
    "df['Ips'] = df['ScreenResolution'].apply(lambda x:1 if 'IPS' in x else 0)"
   ]
  },
  {
   "cell_type": "code",
   "execution_count": 120,
   "id": "dce0253b",
   "metadata": {
    "execution": {
     "iopub.execute_input": "2022-11-16T06:01:00.121724Z",
     "iopub.status.busy": "2022-11-16T06:01:00.120500Z",
     "iopub.status.idle": "2022-11-16T06:01:00.278267Z",
     "shell.execute_reply": "2022-11-16T06:01:00.277064Z"
    },
    "papermill": {
     "duration": 0.192193,
     "end_time": "2022-11-16T06:01:00.280741",
     "exception": false,
     "start_time": "2022-11-16T06:01:00.088548",
     "status": "completed"
    },
    "scrolled": true,
    "tags": []
   },
   "outputs": [
    {
     "data": {
      "text/plain": [
       "<AxesSubplot:>"
      ]
     },
     "execution_count": 120,
     "metadata": {},
     "output_type": "execute_result"
    },
    {
     "data": {
      "image/png": "[encoded data removed]",
      "text/plain": [
       "<Figure size 432x288 with 1 Axes>"
      ]
     },
     "metadata": {
      "needs_background": "light"
     },
     "output_type": "display_data"
    }
   ],
   "source": [
    "df['Ips'].value_counts().plot(kind='bar')"
   ]
  },
  {
   "cell_type": "markdown",
   "id": "8f4298ae",
   "metadata": {},
   "source": [
    "Laptops with In-plane switching are more expensive than the ones that do not have it"
   ]
  },
  {
   "cell_type": "code",
   "execution_count": 121,
   "id": "3039ec15",
   "metadata": {
    "execution": {
     "iopub.execute_input": "2022-11-16T06:01:00.343771Z",
     "iopub.status.busy": "2022-11-16T06:01:00.343354Z",
     "iopub.status.idle": "2022-11-16T06:01:00.582633Z",
     "shell.execute_reply": "2022-11-16T06:01:00.581296Z"
    },
    "papermill": {
     "duration": 0.274129,
     "end_time": "2022-11-16T06:01:00.585553",
     "exception": false,
     "start_time": "2022-11-16T06:01:00.311424",
     "status": "completed"
    },
    "scrolled": true,
    "tags": []
   },
   "outputs": [
    {
     "data": {
      "text/plain": [
       "<AxesSubplot:xlabel='Ips', ylabel='Price'>"
      ]
     },
     "execution_count": 121,
     "metadata": {},
     "output_type": "execute_result"
    },
    {
     "data": {
      "image/png": "[encoded data removed]",
      "text/plain": [
       "<Figure size 432x288 with 1 Axes>"
      ]
     },
     "metadata": {
      "needs_background": "light"
     },
     "output_type": "display_data"
    }
   ],
   "source": [
    "sns.barplot(x=df['Ips'],y=df['Price'])"
   ]
  },
  {
   "cell_type": "markdown",
   "id": "f777f48a",
   "metadata": {},
   "source": [
    "Performing the same setps above on the `Ram` variable, we can see that, higher the RAM, higher its price"
   ]
  },
  {
   "cell_type": "code",
   "execution_count": 143,
   "id": "e8a9535a",
   "metadata": {
    "execution": {
     "iopub.execute_input": "2022-11-16T06:01:03.043797Z",
     "iopub.status.busy": "2022-11-16T06:01:03.043351Z",
     "iopub.status.idle": "2022-11-16T06:01:03.255840Z",
     "shell.execute_reply": "2022-11-16T06:01:03.254600Z"
    },
    "papermill": {
     "duration": 0.250141,
     "end_time": "2022-11-16T06:01:03.258421",
     "exception": false,
     "start_time": "2022-11-16T06:01:03.008280",
     "status": "completed"
    },
    "scrolled": true,
    "tags": []
   },
   "outputs": [
    {
     "data": {
      "text/plain": [
       "<AxesSubplot:>"
      ]
     },
     "execution_count": 143,
     "metadata": {},
     "output_type": "execute_result"
    },
    {
     "data": {
      "image/png": "[encoded data removed]",
      "text/plain": [
       "<Figure size 432x288 with 1 Axes>"
      ]
     },
     "metadata": {
      "needs_background": "light"
     },
     "output_type": "display_data"
    }
   ],
   "source": [
    "df['Ram'].value_counts().plot(kind='bar')"
   ]
  },
  {
   "cell_type": "code",
   "execution_count": 144,
   "id": "3c05c7e3",
   "metadata": {
    "execution": {
     "iopub.execute_input": "2022-11-16T06:01:03.328538Z",
     "iopub.status.busy": "2022-11-16T06:01:03.327647Z",
     "iopub.status.idle": "2022-11-16T06:01:03.870783Z",
     "shell.execute_reply": "2022-11-16T06:01:03.869536Z"
    },
    "papermill": {
     "duration": 0.580244,
     "end_time": "2022-11-16T06:01:03.873238",
     "exception": false,
     "start_time": "2022-11-16T06:01:03.292994",
     "status": "completed"
    },
    "tags": []
   },
   "outputs": [
    {
     "data": {
      "image/png": "[encoded data removed]",
      "text/plain": [
       "<Figure size 432x288 with 1 Axes>"
      ]
     },
     "metadata": {
      "needs_background": "light"
     },
     "output_type": "display_data"
    }
   ],
   "source": [
    "sns.barplot(x=df['Ram'],y=df['Price'])\n",
    "plt.xticks(rotation='vertical')\n",
    "plt.show()"
   ]
  },
  {
   "cell_type": "code",
   "execution_count": 149,
   "id": "4e6e9c3b",
   "metadata": {
    "execution": {
     "iopub.execute_input": "2022-11-16T06:01:04.415683Z",
     "iopub.status.busy": "2022-11-16T06:01:04.415218Z",
     "iopub.status.idle": "2022-11-16T06:01:04.426154Z",
     "shell.execute_reply": "2022-11-16T06:01:04.424686Z"
    },
    "papermill": {
     "duration": 0.048692,
     "end_time": "2022-11-16T06:01:04.428413",
     "exception": false,
     "start_time": "2022-11-16T06:01:04.379721",
     "status": "completed"
    },
    "scrolled": true,
    "tags": []
   },
   "outputs": [
    {
     "data": {
      "text/plain": [
       "Ram              0.743007\n",
       "Weight           0.210370\n",
       "Price            1.000000\n",
       "Touchscreen      0.191226\n",
       "Ips              0.252208\n",
       "ppi              0.473487\n",
       "HDD             -0.096441\n",
       "SSD              0.670799\n",
       "Hybrid           0.007989\n",
       "Flash_Storage   -0.040511\n",
       "Name: Price, dtype: float64"
      ]
     },
     "execution_count": 149,
     "metadata": {},
     "output_type": "execute_result"
    }
   ],
   "source": [
    "# Checking data co-relation\n",
    "df.corr()['Price']"
   ]
  },
  {
   "cell_type": "code",
   "execution_count": 150,
   "id": "2f2e0f65",
   "metadata": {
    "execution": {
     "iopub.execute_input": "2022-11-16T06:01:04.499537Z",
     "iopub.status.busy": "2022-11-16T06:01:04.499117Z",
     "iopub.status.idle": "2022-11-16T06:01:04.504833Z",
     "shell.execute_reply": "2022-11-16T06:01:04.503962Z"
    },
    "papermill": {
     "duration": 0.043855,
     "end_time": "2022-11-16T06:01:04.506955",
     "exception": false,
     "start_time": "2022-11-16T06:01:04.463100",
     "status": "completed"
    },
    "tags": []
   },
   "outputs": [],
   "source": [
    "df.drop(columns=['Hybrid','Flash_Storage'],inplace=True)"
   ]
  },
  {
   "cell_type": "markdown",
   "id": "cae5eef2",
   "metadata": {},
   "source": [
    "The `Gpu` column also needed preprocessing before we could use it"
   ]
  },
  {
   "cell_type": "code",
   "execution_count": 152,
   "id": "8d8da3b3",
   "metadata": {
    "execution": {
     "iopub.execute_input": "2022-11-16T06:01:04.670246Z",
     "iopub.status.busy": "2022-11-16T06:01:04.669798Z",
     "iopub.status.idle": "2022-11-16T06:01:04.683285Z",
     "shell.execute_reply": "2022-11-16T06:01:04.682050Z"
    },
    "papermill": {
     "duration": 0.05247,
     "end_time": "2022-11-16T06:01:04.685651",
     "exception": false,
     "start_time": "2022-11-16T06:01:04.633181",
     "status": "completed"
    },
    "scrolled": true,
    "tags": []
   },
   "outputs": [
    {
     "data": {
      "text/plain": [
       "Intel HD Graphics 620      281\n",
       "Intel HD Graphics 520      185\n",
       "Intel UHD Graphics 620      68\n",
       "Nvidia GeForce GTX 1050     66\n",
       "Nvidia GeForce GTX 1060     48\n",
       "                          ... \n",
       "AMD Radeon R5 520            1\n",
       "AMD Radeon R7                1\n",
       "Intel HD Graphics 540        1\n",
       "AMD Radeon 540               1\n",
       "ARM Mali T860 MP4            1\n",
       "Name: Gpu, Length: 110, dtype: int64"
      ]
     },
     "execution_count": 152,
     "metadata": {},
     "output_type": "execute_result"
    }
   ],
   "source": [
    "df['Gpu'].value_counts()"
   ]
  },
  {
   "cell_type": "code",
   "execution_count": 153,
   "id": "3ae9250c",
   "metadata": {
    "execution": {
     "iopub.execute_input": "2022-11-16T06:01:04.762033Z",
     "iopub.status.busy": "2022-11-16T06:01:04.760788Z",
     "iopub.status.idle": "2022-11-16T06:01:04.768355Z",
     "shell.execute_reply": "2022-11-16T06:01:04.767405Z"
    },
    "papermill": {
     "duration": 0.045824,
     "end_time": "2022-11-16T06:01:04.770507",
     "exception": false,
     "start_time": "2022-11-16T06:01:04.724683",
     "status": "completed"
    },
    "tags": []
   },
   "outputs": [],
   "source": [
    "df['Gpu brand'] = df['Gpu'].apply(lambda x:x.split()[0])\n",
    "df = df[df['Gpu brand'] != 'ARM']"
   ]
  },
  {
   "cell_type": "code",
   "execution_count": 156,
   "id": "a8efc8f3",
   "metadata": {
    "execution": {
     "iopub.execute_input": "2022-11-16T06:01:05.022936Z",
     "iopub.status.busy": "2022-11-16T06:01:05.022116Z",
     "iopub.status.idle": "2022-11-16T06:01:05.029000Z",
     "shell.execute_reply": "2022-11-16T06:01:05.028128Z"
    },
    "papermill": {
     "duration": 0.046111,
     "end_time": "2022-11-16T06:01:05.031482",
     "exception": false,
     "start_time": "2022-11-16T06:01:04.985371",
     "status": "completed"
    },
    "tags": []
   },
   "outputs": [],
   "source": [
    "df['Gpu brand'].value_counts()"
   ]
  },
  {
   "cell_type": "markdown",
   "id": "2248eac4",
   "metadata": {},
   "source": [
    "Lets look at the price of the laptops having different brands of GPUs"
   ]
  },
  {
   "cell_type": "code",
   "execution_count": 158,
   "id": "57cd55a3",
   "metadata": {
    "execution": {
     "iopub.execute_input": "2022-11-16T06:01:05.186167Z",
     "iopub.status.busy": "2022-11-16T06:01:05.185706Z",
     "iopub.status.idle": "2022-11-16T06:01:05.544177Z",
     "shell.execute_reply": "2022-11-16T06:01:05.543168Z"
    },
    "papermill": {
     "duration": 0.397346,
     "end_time": "2022-11-16T06:01:05.546526",
     "exception": false,
     "start_time": "2022-11-16T06:01:05.149180",
     "status": "completed"
    },
    "scrolled": true,
    "tags": []
   },
   "outputs": [
    {
     "data": {
      "image/png": "[encoded data removed]",
      "text/plain": [
       "<Figure size 432x288 with 1 Axes>"
      ]
     },
     "metadata": {
      "needs_background": "light"
     },
     "output_type": "display_data"
    }
   ],
   "source": [
    "sns.barplot(x=df['Gpu brand'],y=df['Price'],estimator=np.median)\n",
    "plt.xticks(rotation='vertical')\n",
    "plt.show()"
   ]
  },
  {
   "cell_type": "code",
   "execution_count": 159,
   "id": "31c996db",
   "metadata": {
    "execution": {
     "iopub.execute_input": "2022-11-16T06:01:05.621357Z",
     "iopub.status.busy": "2022-11-16T06:01:05.620608Z",
     "iopub.status.idle": "2022-11-16T06:01:05.626830Z",
     "shell.execute_reply": "2022-11-16T06:01:05.625720Z"
    },
    "papermill": {
     "duration": 0.045948,
     "end_time": "2022-11-16T06:01:05.629761",
     "exception": false,
     "start_time": "2022-11-16T06:01:05.583813",
     "status": "completed"
    },
    "tags": []
   },
   "outputs": [],
   "source": [
    "df.drop(columns=['Gpu'],inplace=True)"
   ]
  },
  {
   "cell_type": "markdown",
   "id": "7f806c51",
   "metadata": {},
   "source": [
    "Next up is `Operating system`"
   ]
  },
  {
   "cell_type": "code",
   "execution_count": 161,
   "id": "c056d2a2",
   "metadata": {
    "execution": {
     "iopub.execute_input": "2022-11-16T06:01:05.868363Z",
     "iopub.status.busy": "2022-11-16T06:01:05.867683Z",
     "iopub.status.idle": "2022-11-16T06:01:05.876733Z",
     "shell.execute_reply": "2022-11-16T06:01:05.875602Z"
    },
    "papermill": {
     "duration": 0.04933,
     "end_time": "2022-11-16T06:01:05.878961",
     "exception": false,
     "start_time": "2022-11-16T06:01:05.829631",
     "status": "completed"
    },
    "scrolled": true,
    "tags": []
   },
   "outputs": [
    {
     "data": {
      "text/plain": [
       "Windows 10      1072\n",
       "No OS             66\n",
       "Linux             62\n",
       "Windows 7         45\n",
       "Chrome OS         26\n",
       "macOS             13\n",
       "Mac OS X           8\n",
       "Windows 10 S       8\n",
       "Android            2\n",
       "Name: OpSys, dtype: int64"
      ]
     },
     "execution_count": 161,
     "metadata": {},
     "output_type": "execute_result"
    }
   ],
   "source": [
    "df['OpSys'].value_counts()"
   ]
  },
  {
   "cell_type": "markdown",
   "id": "a178857c",
   "metadata": {},
   "source": [
    "Looks like a tuff race between macOS and Windows"
   ]
  },
  {
   "cell_type": "code",
   "execution_count": 162,
   "id": "4373e203",
   "metadata": {
    "execution": {
     "iopub.execute_input": "2022-11-16T06:01:05.954431Z",
     "iopub.status.busy": "2022-11-16T06:01:05.953964Z",
     "iopub.status.idle": "2022-11-16T06:01:06.372941Z",
     "shell.execute_reply": "2022-11-16T06:01:06.371628Z"
    },
    "papermill": {
     "duration": 0.459527,
     "end_time": "2022-11-16T06:01:06.375562",
     "exception": false,
     "start_time": "2022-11-16T06:01:05.916035",
     "status": "completed"
    },
    "scrolled": false,
    "tags": []
   },
   "outputs": [
    {
     "data": {
      "image/png": "[encoded data removed]",
      "text/plain": [
       "<Figure size 432x288 with 1 Axes>"
      ]
     },
     "metadata": {
      "needs_background": "light"
     },
     "output_type": "display_data"
    }
   ],
   "source": [
    "sns.barplot(x=df['OpSys'],y=df['Price'])\n",
    "plt.xticks(rotation='vertical')\n",
    "plt.show()"
   ]
  },
  {
   "cell_type": "markdown",
   "id": "8d22dca0",
   "metadata": {},
   "source": [
    "Since, there are multiple Windows version, we combined them into one, and then again had a look at the plot"
   ]
  },
  {
   "cell_type": "code",
   "execution_count": 163,
   "id": "005b685a",
   "metadata": {
    "execution": {
     "iopub.execute_input": "2022-11-16T06:01:06.450636Z",
     "iopub.status.busy": "2022-11-16T06:01:06.449366Z",
     "iopub.status.idle": "2022-11-16T06:01:06.455560Z",
     "shell.execute_reply": "2022-11-16T06:01:06.454413Z"
    },
    "papermill": {
     "duration": 0.046263,
     "end_time": "2022-11-16T06:01:06.458137",
     "exception": false,
     "start_time": "2022-11-16T06:01:06.411874",
     "status": "completed"
    },
    "tags": []
   },
   "outputs": [],
   "source": [
    "def cat_os(inp):\n",
    "    if inp == 'Windows 10' or inp == 'Windows 7' or inp == 'Windows 10 S':\n",
    "        return 'Windows'\n",
    "    elif inp == 'macOS' or inp == 'Mac OS X':\n",
    "        return 'Mac'\n",
    "    else:\n",
    "        return 'Others/No OS/Linux'"
   ]
  },
  {
   "cell_type": "code",
   "execution_count": 164,
   "id": "df45c4e9",
   "metadata": {
    "execution": {
     "iopub.execute_input": "2022-11-16T06:01:06.533787Z",
     "iopub.status.busy": "2022-11-16T06:01:06.532482Z",
     "iopub.status.idle": "2022-11-16T06:01:06.539193Z",
     "shell.execute_reply": "2022-11-16T06:01:06.538262Z"
    },
    "papermill": {
     "duration": 0.046932,
     "end_time": "2022-11-16T06:01:06.541370",
     "exception": false,
     "start_time": "2022-11-16T06:01:06.494438",
     "status": "completed"
    },
    "tags": []
   },
   "outputs": [],
   "source": [
    "df['os'] = df['OpSys'].apply(cat_os)"
   ]
  },
  {
   "cell_type": "code",
   "execution_count": 166,
   "id": "d6c8e164",
   "metadata": {
    "execution": {
     "iopub.execute_input": "2022-11-16T06:01:06.711392Z",
     "iopub.status.busy": "2022-11-16T06:01:06.710953Z",
     "iopub.status.idle": "2022-11-16T06:01:06.718247Z",
     "shell.execute_reply": "2022-11-16T06:01:06.717345Z"
    },
    "papermill": {
     "duration": 0.048138,
     "end_time": "2022-11-16T06:01:06.720549",
     "exception": false,
     "start_time": "2022-11-16T06:01:06.672411",
     "status": "completed"
    },
    "tags": []
   },
   "outputs": [],
   "source": [
    "df.drop(columns=['OpSys'],inplace=True)"
   ]
  },
  {
   "cell_type": "markdown",
   "id": "46b75c42",
   "metadata": {},
   "source": [
    "Much better. We can see that mac is leading the way!"
   ]
  },
  {
   "cell_type": "code",
   "execution_count": 167,
   "id": "a4965f3e",
   "metadata": {
    "execution": {
     "iopub.execute_input": "2022-11-16T06:01:06.795626Z",
     "iopub.status.busy": "2022-11-16T06:01:06.794398Z",
     "iopub.status.idle": "2022-11-16T06:01:07.036067Z",
     "shell.execute_reply": "2022-11-16T06:01:07.034877Z"
    },
    "papermill": {
     "duration": 0.281761,
     "end_time": "2022-11-16T06:01:07.038635",
     "exception": false,
     "start_time": "2022-11-16T06:01:06.756874",
     "status": "completed"
    },
    "scrolled": false,
    "tags": []
   },
   "outputs": [
    {
     "data": {
      "image/png": "[encoded data removed]",
      "text/plain": [
       "<Figure size 432x288 with 1 Axes>"
      ]
     },
     "metadata": {
      "needs_background": "light"
     },
     "output_type": "display_data"
    }
   ],
   "source": [
    "sns.barplot(x=df['os'],y=df['Price'])\n",
    "plt.xticks(rotation='vertical')\n",
    "plt.show()"
   ]
  },
  {
   "cell_type": "markdown",
   "id": "0415b299",
   "metadata": {},
   "source": [
    "Lastly, let us have a look at the distribution of the `Weight` of the laptop."
   ]
  },
  {
   "cell_type": "code",
   "execution_count": 168,
   "id": "539f75e3",
   "metadata": {
    "execution": {
     "iopub.execute_input": "2022-11-16T06:01:07.113172Z",
     "iopub.status.busy": "2022-11-16T06:01:07.112355Z",
     "iopub.status.idle": "2022-11-16T06:01:07.334323Z",
     "shell.execute_reply": "2022-11-16T06:01:07.333083Z"
    },
    "papermill": {
     "duration": 0.261704,
     "end_time": "2022-11-16T06:01:07.336848",
     "exception": false,
     "start_time": "2022-11-16T06:01:07.075144",
     "status": "completed"
    },
    "scrolled": false,
    "tags": []
   },
   "outputs": [
    {
     "name": "stderr",
     "output_type": "stream",
     "text": [
      "C:\\Users\\shiva\\anaconda3\\lib\\site-packages\\seaborn\\distributions.py:2619: FutureWarning: `distplot` is a deprecated function and will be removed in a future version. Please adapt your code to use either `displot` (a figure-level function with similar flexibility) or `histplot` (an axes-level function for histograms).\n",
      "  warnings.warn(msg, FutureWarning)\n"
     ]
    },
    {
     "data": {
      "text/plain": [
       "<AxesSubplot:xlabel='Weight', ylabel='Density'>"
      ]
     },
     "execution_count": 168,
     "metadata": {},
     "output_type": "execute_result"
    },
    {
     "data": {
      "image/png": "[encoded data removed]",
      "text/plain": [
       "<Figure size 432x288 with 1 Axes>"
      ]
     },
     "metadata": {
      "needs_background": "light"
     },
     "output_type": "display_data"
    }
   ],
   "source": [
    "sns.distplot(df['Weight'])"
   ]
  },
  {
   "cell_type": "markdown",
   "id": "8951d521",
   "metadata": {},
   "source": [
    "Comparing it to the Price of a laptop, not much can be inferred from here to be honest, but there sure is an increase in price that are relatively heavier"
   ]
  },
  {
   "cell_type": "code",
   "execution_count": 169,
   "id": "cdafe0ea",
   "metadata": {
    "execution": {
     "iopub.execute_input": "2022-11-16T06:01:07.412819Z",
     "iopub.status.busy": "2022-11-16T06:01:07.411721Z",
     "iopub.status.idle": "2022-11-16T06:01:07.607471Z",
     "shell.execute_reply": "2022-11-16T06:01:07.606456Z"
    },
    "papermill": {
     "duration": 0.236457,
     "end_time": "2022-11-16T06:01:07.610201",
     "exception": false,
     "start_time": "2022-11-16T06:01:07.373744",
     "status": "completed"
    },
    "scrolled": false,
    "tags": []
   },
   "outputs": [
    {
     "data": {
      "text/plain": [
       "<AxesSubplot:xlabel='Weight', ylabel='Price'>"
      ]
     },
     "execution_count": 169,
     "metadata": {},
     "output_type": "execute_result"
    },
    {
     "data": {
      "image/png": "[encoded data removed]",
      "text/plain": [
       "<Figure size 432x288 with 1 Axes>"
      ]
     },
     "metadata": {
      "needs_background": "light"
     },
     "output_type": "display_data"
    }
   ],
   "source": [
    "sns.scatterplot(x=df['Weight'],y=df['Price'])"
   ]
  },
  {
   "cell_type": "markdown",
   "id": "25cda7d7",
   "metadata": {},
   "source": [
    "# Model creating and evaluation"
   ]
  },
  {
   "cell_type": "code",
   "execution_count": 170,
   "id": "42cfb273",
   "metadata": {
    "execution": {
     "iopub.execute_input": "2022-11-16T06:01:07.689728Z",
     "iopub.status.busy": "2022-11-16T06:01:07.689310Z",
     "iopub.status.idle": "2022-11-16T06:01:07.700446Z",
     "shell.execute_reply": "2022-11-16T06:01:07.698813Z"
    },
    "papermill": {
     "duration": 0.054407,
     "end_time": "2022-11-16T06:01:07.703233",
     "exception": false,
     "start_time": "2022-11-16T06:01:07.648826",
     "status": "completed"
    },
    "scrolled": false,
    "tags": []
   },
   "outputs": [
    {
     "data": {
      "text/plain": [
       "Ram            0.742905\n",
       "Weight         0.209867\n",
       "Price          1.000000\n",
       "Touchscreen    0.192917\n",
       "Ips            0.253320\n",
       "ppi            0.475368\n",
       "HDD           -0.096891\n",
       "SSD            0.670660\n",
       "Name: Price, dtype: float64"
      ]
     },
     "execution_count": 170,
     "metadata": {},
     "output_type": "execute_result"
    }
   ],
   "source": [
    "#Looking at the attribute co-relation\n",
    "df.corr()['Price']"
   ]
  },
  {
   "cell_type": "markdown",
   "id": "31a409a7",
   "metadata": {},
   "source": [
    "Co-relation Matrix"
   ]
  },
  {
   "cell_type": "code",
   "execution_count": 171,
   "id": "0e3ec750",
   "metadata": {
    "execution": {
     "iopub.execute_input": "2022-11-16T06:01:07.796278Z",
     "iopub.status.busy": "2022-11-16T06:01:07.795790Z",
     "iopub.status.idle": "2022-11-16T06:01:08.068472Z",
     "shell.execute_reply": "2022-11-16T06:01:08.067299Z"
    },
    "papermill": {
     "duration": 0.320917,
     "end_time": "2022-11-16T06:01:08.070840",
     "exception": false,
     "start_time": "2022-11-16T06:01:07.749923",
     "status": "completed"
    },
    "scrolled": true,
    "tags": []
   },
   "outputs": [
    {
     "data": {
      "text/plain": [
       "<AxesSubplot:>"
      ]
     },
     "execution_count": 171,
     "metadata": {},
     "output_type": "execute_result"
    },
    {
     "data": {
      "image/png": "[encoded data removed]",
      "text/plain": [
       "<Figure size 432x288 with 2 Axes>"
      ]
     },
     "metadata": {
      "needs_background": "light"
     },
     "output_type": "display_data"
    }
   ],
   "source": [
    "sns.heatmap(df.corr())"
   ]
  },
  {
   "cell_type": "markdown",
   "id": "019416da",
   "metadata": {},
   "source": [
    "Checking the distribution of the `Price` variable"
   ]
  },
  {
   "cell_type": "code",
   "execution_count": 172,
   "id": "eacf55d3",
   "metadata": {
    "execution": {
     "iopub.execute_input": "2022-11-16T06:01:08.150109Z",
     "iopub.status.busy": "2022-11-16T06:01:08.149451Z",
     "iopub.status.idle": "2022-11-16T06:01:08.402159Z",
     "shell.execute_reply": "2022-11-16T06:01:08.400967Z"
    },
    "papermill": {
     "duration": 0.29506,
     "end_time": "2022-11-16T06:01:08.404504",
     "exception": false,
     "start_time": "2022-11-16T06:01:08.109444",
     "status": "completed"
    },
    "scrolled": false,
    "tags": []
   },
   "outputs": [
    {
     "name": "stderr",
     "output_type": "stream",
     "text": [
      "C:\\Users\\shiva\\anaconda3\\lib\\site-packages\\seaborn\\distributions.py:2619: FutureWarning: `distplot` is a deprecated function and will be removed in a future version. Please adapt your code to use either `displot` (a figure-level function with similar flexibility) or `histplot` (an axes-level function for histograms).\n",
      "  warnings.warn(msg, FutureWarning)\n"
     ]
    },
    {
     "data": {
      "text/plain": [
       "<AxesSubplot:xlabel='Price', ylabel='Density'>"
      ]
     },
     "execution_count": 172,
     "metadata": {},
     "output_type": "execute_result"
    },
    {
     "data": {
      "image/png": "[encoded data removed]",
      "text/plain": [
       "<Figure size 432x288 with 1 Axes>"
      ]
     },
     "metadata": {
      "needs_background": "light"
     },
     "output_type": "display_data"
    }
   ],
   "source": [
    "sns.distplot(np.log(df['Price']))"
   ]
  },
  {
   "cell_type": "markdown",
   "id": "c016bcfe",
   "metadata": {},
   "source": [
    "We can see that it is normally distributed"
   ]
  },
  {
   "cell_type": "code",
   "execution_count": 173,
   "id": "9c14528b",
   "metadata": {
    "execution": {
     "iopub.execute_input": "2022-11-16T06:01:08.484739Z",
     "iopub.status.busy": "2022-11-16T06:01:08.484309Z",
     "iopub.status.idle": "2022-11-16T06:01:08.491131Z",
     "shell.execute_reply": "2022-11-16T06:01:08.489964Z"
    },
    "papermill": {
     "duration": 0.049445,
     "end_time": "2022-11-16T06:01:08.493415",
     "exception": false,
     "start_time": "2022-11-16T06:01:08.443970",
     "status": "completed"
    },
    "tags": []
   },
   "outputs": [],
   "source": [
    "X = df.drop(columns=['Price'])\n",
    "y = np.log(df['Price'])"
   ]
  },
  {
   "cell_type": "code",
   "execution_count": 174,
   "id": "37208476",
   "metadata": {
    "execution": {
     "iopub.execute_input": "2022-11-16T06:01:08.576016Z",
     "iopub.status.busy": "2022-11-16T06:01:08.575010Z",
     "iopub.status.idle": "2022-11-16T06:01:08.597183Z",
     "shell.execute_reply": "2022-11-16T06:01:08.596266Z"
    },
    "papermill": {
     "duration": 0.065859,
     "end_time": "2022-11-16T06:01:08.599441",
     "exception": false,
     "start_time": "2022-11-16T06:01:08.533582",
     "status": "completed"
    },
    "tags": []
   },
   "outputs": [
    {
     "data": {
      "text/html": [
       "<div>\n",
       "<style scoped>\n",
       "    .dataframe tbody tr th:only-of-type {\n",
       "        vertical-align: middle;\n",
       "    }\n",
       "\n",
       "    .dataframe tbody tr th {\n",
       "        vertical-align: top;\n",
       "    }\n",
       "\n",
       "    .dataframe thead th {\n",
       "        text-align: right;\n",
       "    }\n",
       "</style>\n",
       "<table border=\"1\" class=\"dataframe\">\n",
       "  <thead>\n",
       "    <tr style=\"text-align: right;\">\n",
       "      <th></th>\n",
       "      <th>Company</th>\n",
       "      <th>TypeName</th>\n",
       "      <th>Ram</th>\n",
       "      <th>Weight</th>\n",
       "      <th>Touchscreen</th>\n",
       "      <th>Ips</th>\n",
       "      <th>ppi</th>\n",
       "      <th>Cpu brand</th>\n",
       "      <th>HDD</th>\n",
       "      <th>SSD</th>\n",
       "      <th>Gpu brand</th>\n",
       "      <th>os</th>\n",
       "    </tr>\n",
       "  </thead>\n",
       "  <tbody>\n",
       "    <tr>\n",
       "      <th>0</th>\n",
       "      <td>Apple</td>\n",
       "      <td>Ultrabook</td>\n",
       "      <td>8</td>\n",
       "      <td>1.37</td>\n",
       "      <td>0</td>\n",
       "      <td>1</td>\n",
       "      <td>226.983005</td>\n",
       "      <td>Intel Core i5</td>\n",
       "      <td>0</td>\n",
       "      <td>128</td>\n",
       "      <td>Intel</td>\n",
       "      <td>Mac</td>\n",
       "    </tr>\n",
       "    <tr>\n",
       "      <th>1</th>\n",
       "      <td>Apple</td>\n",
       "      <td>Ultrabook</td>\n",
       "      <td>8</td>\n",
       "      <td>1.34</td>\n",
       "      <td>0</td>\n",
       "      <td>0</td>\n",
       "      <td>127.677940</td>\n",
       "      <td>Intel Core i5</td>\n",
       "      <td>0</td>\n",
       "      <td>0</td>\n",
       "      <td>Intel</td>\n",
       "      <td>Mac</td>\n",
       "    </tr>\n",
       "    <tr>\n",
       "      <th>2</th>\n",
       "      <td>HP</td>\n",
       "      <td>Notebook</td>\n",
       "      <td>8</td>\n",
       "      <td>1.86</td>\n",
       "      <td>0</td>\n",
       "      <td>0</td>\n",
       "      <td>141.211998</td>\n",
       "      <td>Intel Core i5</td>\n",
       "      <td>0</td>\n",
       "      <td>256</td>\n",
       "      <td>Intel</td>\n",
       "      <td>Others/No OS/Linux</td>\n",
       "    </tr>\n",
       "    <tr>\n",
       "      <th>3</th>\n",
       "      <td>Apple</td>\n",
       "      <td>Ultrabook</td>\n",
       "      <td>16</td>\n",
       "      <td>1.83</td>\n",
       "      <td>0</td>\n",
       "      <td>1</td>\n",
       "      <td>220.534624</td>\n",
       "      <td>Intel Core i7</td>\n",
       "      <td>0</td>\n",
       "      <td>512</td>\n",
       "      <td>AMD</td>\n",
       "      <td>Mac</td>\n",
       "    </tr>\n",
       "    <tr>\n",
       "      <th>4</th>\n",
       "      <td>Apple</td>\n",
       "      <td>Ultrabook</td>\n",
       "      <td>8</td>\n",
       "      <td>1.37</td>\n",
       "      <td>0</td>\n",
       "      <td>1</td>\n",
       "      <td>226.983005</td>\n",
       "      <td>Intel Core i5</td>\n",
       "      <td>0</td>\n",
       "      <td>256</td>\n",
       "      <td>Intel</td>\n",
       "      <td>Mac</td>\n",
       "    </tr>\n",
       "    <tr>\n",
       "      <th>...</th>\n",
       "      <td>...</td>\n",
       "      <td>...</td>\n",
       "      <td>...</td>\n",
       "      <td>...</td>\n",
       "      <td>...</td>\n",
       "      <td>...</td>\n",
       "      <td>...</td>\n",
       "      <td>...</td>\n",
       "      <td>...</td>\n",
       "      <td>...</td>\n",
       "      <td>...</td>\n",
       "      <td>...</td>\n",
       "    </tr>\n",
       "    <tr>\n",
       "      <th>1298</th>\n",
       "      <td>Lenovo</td>\n",
       "      <td>2 in 1 Convertible</td>\n",
       "      <td>4</td>\n",
       "      <td>1.80</td>\n",
       "      <td>1</td>\n",
       "      <td>1</td>\n",
       "      <td>157.350512</td>\n",
       "      <td>Intel Core i7</td>\n",
       "      <td>0</td>\n",
       "      <td>128</td>\n",
       "      <td>Intel</td>\n",
       "      <td>Windows</td>\n",
       "    </tr>\n",
       "    <tr>\n",
       "      <th>1299</th>\n",
       "      <td>Lenovo</td>\n",
       "      <td>2 in 1 Convertible</td>\n",
       "      <td>16</td>\n",
       "      <td>1.30</td>\n",
       "      <td>1</td>\n",
       "      <td>1</td>\n",
       "      <td>276.053530</td>\n",
       "      <td>Intel Core i7</td>\n",
       "      <td>0</td>\n",
       "      <td>512</td>\n",
       "      <td>Intel</td>\n",
       "      <td>Windows</td>\n",
       "    </tr>\n",
       "    <tr>\n",
       "      <th>1300</th>\n",
       "      <td>Lenovo</td>\n",
       "      <td>Notebook</td>\n",
       "      <td>2</td>\n",
       "      <td>1.50</td>\n",
       "      <td>0</td>\n",
       "      <td>0</td>\n",
       "      <td>111.935204</td>\n",
       "      <td>Other Intel Processor</td>\n",
       "      <td>0</td>\n",
       "      <td>0</td>\n",
       "      <td>Intel</td>\n",
       "      <td>Windows</td>\n",
       "    </tr>\n",
       "    <tr>\n",
       "      <th>1301</th>\n",
       "      <td>HP</td>\n",
       "      <td>Notebook</td>\n",
       "      <td>6</td>\n",
       "      <td>2.19</td>\n",
       "      <td>0</td>\n",
       "      <td>0</td>\n",
       "      <td>100.454670</td>\n",
       "      <td>Intel Core i7</td>\n",
       "      <td>1000</td>\n",
       "      <td>0</td>\n",
       "      <td>AMD</td>\n",
       "      <td>Windows</td>\n",
       "    </tr>\n",
       "    <tr>\n",
       "      <th>1302</th>\n",
       "      <td>Asus</td>\n",
       "      <td>Notebook</td>\n",
       "      <td>4</td>\n",
       "      <td>2.20</td>\n",
       "      <td>0</td>\n",
       "      <td>0</td>\n",
       "      <td>100.454670</td>\n",
       "      <td>Other Intel Processor</td>\n",
       "      <td>500</td>\n",
       "      <td>0</td>\n",
       "      <td>Intel</td>\n",
       "      <td>Windows</td>\n",
       "    </tr>\n",
       "  </tbody>\n",
       "</table>\n",
       "<p>1302 rows × 12 columns</p>\n",
       "</div>"
      ],
      "text/plain": [
       "     Company            TypeName  Ram  Weight  Touchscreen  Ips         ppi  \\\n",
       "0      Apple           Ultrabook    8    1.37            0    1  226.983005   \n",
       "1      Apple           Ultrabook    8    1.34            0    0  127.677940   \n",
       "2         HP            Notebook    8    1.86            0    0  141.211998   \n",
       "3      Apple           Ultrabook   16    1.83            0    1  220.534624   \n",
       "4      Apple           Ultrabook    8    1.37            0    1  226.983005   \n",
       "...      ...                 ...  ...     ...          ...  ...         ...   \n",
       "1298  Lenovo  2 in 1 Convertible    4    1.80            1    1  157.350512   \n",
       "1299  Lenovo  2 in 1 Convertible   16    1.30            1    1  276.053530   \n",
       "1300  Lenovo            Notebook    2    1.50            0    0  111.935204   \n",
       "1301      HP            Notebook    6    2.19            0    0  100.454670   \n",
       "1302    Asus            Notebook    4    2.20            0    0  100.454670   \n",
       "\n",
       "                  Cpu brand   HDD  SSD Gpu brand                  os  \n",
       "0             Intel Core i5     0  128     Intel                 Mac  \n",
       "1             Intel Core i5     0    0     Intel                 Mac  \n",
       "2             Intel Core i5     0  256     Intel  Others/No OS/Linux  \n",
       "3             Intel Core i7     0  512       AMD                 Mac  \n",
       "4             Intel Core i5     0  256     Intel                 Mac  \n",
       "...                     ...   ...  ...       ...                 ...  \n",
       "1298          Intel Core i7     0  128     Intel             Windows  \n",
       "1299          Intel Core i7     0  512     Intel             Windows  \n",
       "1300  Other Intel Processor     0    0     Intel             Windows  \n",
       "1301          Intel Core i7  1000    0       AMD             Windows  \n",
       "1302  Other Intel Processor   500    0     Intel             Windows  \n",
       "\n",
       "[1302 rows x 12 columns]"
      ]
     },
     "execution_count": 174,
     "metadata": {},
     "output_type": "execute_result"
    }
   ],
   "source": [
    "X"
   ]
  },
  {
   "cell_type": "code",
   "execution_count": 175,
   "id": "cf5b68be",
   "metadata": {
    "execution": {
     "iopub.execute_input": "2022-11-16T06:01:08.681631Z",
     "iopub.status.busy": "2022-11-16T06:01:08.680634Z",
     "iopub.status.idle": "2022-11-16T06:01:08.689118Z",
     "shell.execute_reply": "2022-11-16T06:01:08.688141Z"
    },
    "papermill": {
     "duration": 0.051626,
     "end_time": "2022-11-16T06:01:08.691149",
     "exception": false,
     "start_time": "2022-11-16T06:01:08.639523",
     "status": "completed"
    },
    "tags": []
   },
   "outputs": [
    {
     "data": {
      "text/plain": [
       "0       11.175755\n",
       "1       10.776777\n",
       "2       10.329931\n",
       "3       11.814476\n",
       "4       11.473101\n",
       "          ...    \n",
       "1298    10.433899\n",
       "1299    11.288115\n",
       "1300     9.409283\n",
       "1301    10.614129\n",
       "1302     9.886358\n",
       "Name: Price, Length: 1302, dtype: float64"
      ]
     },
     "execution_count": 175,
     "metadata": {},
     "output_type": "execute_result"
    }
   ],
   "source": [
    "y"
   ]
  },
  {
   "cell_type": "code",
   "execution_count": 176,
   "id": "ec739863",
   "metadata": {
    "execution": {
     "iopub.execute_input": "2022-11-16T06:01:08.773734Z",
     "iopub.status.busy": "2022-11-16T06:01:08.772476Z",
     "iopub.status.idle": "2022-11-16T06:01:08.945688Z",
     "shell.execute_reply": "2022-11-16T06:01:08.944731Z"
    },
    "papermill": {
     "duration": 0.2172,
     "end_time": "2022-11-16T06:01:08.948571",
     "exception": false,
     "start_time": "2022-11-16T06:01:08.731371",
     "status": "completed"
    },
    "tags": []
   },
   "outputs": [],
   "source": [
    "# Splitting the dataset\n",
    "X_train,X_test,y_train,y_test = train_test_split(X,y,test_size=0.15,random_state=2)"
   ]
  },
  {
   "cell_type": "code",
   "execution_count": 177,
   "id": "a918105a",
   "metadata": {
    "execution": {
     "iopub.execute_input": "2022-11-16T06:01:09.030679Z",
     "iopub.status.busy": "2022-11-16T06:01:09.030253Z",
     "iopub.status.idle": "2022-11-16T06:01:09.053172Z",
     "shell.execute_reply": "2022-11-16T06:01:09.052010Z"
    },
    "papermill": {
     "duration": 0.066423,
     "end_time": "2022-11-16T06:01:09.055494",
     "exception": false,
     "start_time": "2022-11-16T06:01:08.989071",
     "status": "completed"
    },
    "tags": []
   },
   "outputs": [
    {
     "data": {
      "text/html": [
       "<div>\n",
       "<style scoped>\n",
       "    .dataframe tbody tr th:only-of-type {\n",
       "        vertical-align: middle;\n",
       "    }\n",
       "\n",
       "    .dataframe tbody tr th {\n",
       "        vertical-align: top;\n",
       "    }\n",
       "\n",
       "    .dataframe thead th {\n",
       "        text-align: right;\n",
       "    }\n",
       "</style>\n",
       "<table border=\"1\" class=\"dataframe\">\n",
       "  <thead>\n",
       "    <tr style=\"text-align: right;\">\n",
       "      <th></th>\n",
       "      <th>Company</th>\n",
       "      <th>TypeName</th>\n",
       "      <th>Ram</th>\n",
       "      <th>Weight</th>\n",
       "      <th>Touchscreen</th>\n",
       "      <th>Ips</th>\n",
       "      <th>ppi</th>\n",
       "      <th>Cpu brand</th>\n",
       "      <th>HDD</th>\n",
       "      <th>SSD</th>\n",
       "      <th>Gpu brand</th>\n",
       "      <th>os</th>\n",
       "    </tr>\n",
       "  </thead>\n",
       "  <tbody>\n",
       "    <tr>\n",
       "      <th>183</th>\n",
       "      <td>Toshiba</td>\n",
       "      <td>Notebook</td>\n",
       "      <td>8</td>\n",
       "      <td>2.00</td>\n",
       "      <td>0</td>\n",
       "      <td>0</td>\n",
       "      <td>100.454670</td>\n",
       "      <td>Intel Core i5</td>\n",
       "      <td>0</td>\n",
       "      <td>128</td>\n",
       "      <td>Intel</td>\n",
       "      <td>Windows</td>\n",
       "    </tr>\n",
       "    <tr>\n",
       "      <th>1141</th>\n",
       "      <td>MSI</td>\n",
       "      <td>Gaming</td>\n",
       "      <td>8</td>\n",
       "      <td>2.40</td>\n",
       "      <td>0</td>\n",
       "      <td>0</td>\n",
       "      <td>141.211998</td>\n",
       "      <td>Intel Core i7</td>\n",
       "      <td>1000</td>\n",
       "      <td>128</td>\n",
       "      <td>Nvidia</td>\n",
       "      <td>Windows</td>\n",
       "    </tr>\n",
       "    <tr>\n",
       "      <th>1049</th>\n",
       "      <td>Asus</td>\n",
       "      <td>Netbook</td>\n",
       "      <td>4</td>\n",
       "      <td>1.20</td>\n",
       "      <td>0</td>\n",
       "      <td>0</td>\n",
       "      <td>135.094211</td>\n",
       "      <td>Other Intel Processor</td>\n",
       "      <td>0</td>\n",
       "      <td>0</td>\n",
       "      <td>Intel</td>\n",
       "      <td>Others/No OS/Linux</td>\n",
       "    </tr>\n",
       "    <tr>\n",
       "      <th>1020</th>\n",
       "      <td>Dell</td>\n",
       "      <td>2 in 1 Convertible</td>\n",
       "      <td>4</td>\n",
       "      <td>2.08</td>\n",
       "      <td>1</td>\n",
       "      <td>1</td>\n",
       "      <td>141.211998</td>\n",
       "      <td>Intel Core i3</td>\n",
       "      <td>1000</td>\n",
       "      <td>0</td>\n",
       "      <td>Intel</td>\n",
       "      <td>Windows</td>\n",
       "    </tr>\n",
       "    <tr>\n",
       "      <th>878</th>\n",
       "      <td>Dell</td>\n",
       "      <td>Notebook</td>\n",
       "      <td>4</td>\n",
       "      <td>2.18</td>\n",
       "      <td>0</td>\n",
       "      <td>0</td>\n",
       "      <td>141.211998</td>\n",
       "      <td>Intel Core i5</td>\n",
       "      <td>1000</td>\n",
       "      <td>128</td>\n",
       "      <td>Nvidia</td>\n",
       "      <td>Windows</td>\n",
       "    </tr>\n",
       "    <tr>\n",
       "      <th>...</th>\n",
       "      <td>...</td>\n",
       "      <td>...</td>\n",
       "      <td>...</td>\n",
       "      <td>...</td>\n",
       "      <td>...</td>\n",
       "      <td>...</td>\n",
       "      <td>...</td>\n",
       "      <td>...</td>\n",
       "      <td>...</td>\n",
       "      <td>...</td>\n",
       "      <td>...</td>\n",
       "      <td>...</td>\n",
       "    </tr>\n",
       "    <tr>\n",
       "      <th>466</th>\n",
       "      <td>Acer</td>\n",
       "      <td>Notebook</td>\n",
       "      <td>4</td>\n",
       "      <td>2.20</td>\n",
       "      <td>0</td>\n",
       "      <td>0</td>\n",
       "      <td>100.454670</td>\n",
       "      <td>Intel Core i3</td>\n",
       "      <td>500</td>\n",
       "      <td>0</td>\n",
       "      <td>Nvidia</td>\n",
       "      <td>Windows</td>\n",
       "    </tr>\n",
       "    <tr>\n",
       "      <th>299</th>\n",
       "      <td>Asus</td>\n",
       "      <td>Ultrabook</td>\n",
       "      <td>16</td>\n",
       "      <td>1.63</td>\n",
       "      <td>0</td>\n",
       "      <td>0</td>\n",
       "      <td>141.211998</td>\n",
       "      <td>Intel Core i7</td>\n",
       "      <td>0</td>\n",
       "      <td>512</td>\n",
       "      <td>Nvidia</td>\n",
       "      <td>Windows</td>\n",
       "    </tr>\n",
       "    <tr>\n",
       "      <th>493</th>\n",
       "      <td>Acer</td>\n",
       "      <td>Notebook</td>\n",
       "      <td>8</td>\n",
       "      <td>2.20</td>\n",
       "      <td>0</td>\n",
       "      <td>0</td>\n",
       "      <td>100.454670</td>\n",
       "      <td>AMD Processor</td>\n",
       "      <td>1000</td>\n",
       "      <td>0</td>\n",
       "      <td>AMD</td>\n",
       "      <td>Windows</td>\n",
       "    </tr>\n",
       "    <tr>\n",
       "      <th>527</th>\n",
       "      <td>Lenovo</td>\n",
       "      <td>Notebook</td>\n",
       "      <td>8</td>\n",
       "      <td>2.20</td>\n",
       "      <td>0</td>\n",
       "      <td>0</td>\n",
       "      <td>100.454670</td>\n",
       "      <td>Intel Core i3</td>\n",
       "      <td>2000</td>\n",
       "      <td>0</td>\n",
       "      <td>Nvidia</td>\n",
       "      <td>Others/No OS/Linux</td>\n",
       "    </tr>\n",
       "    <tr>\n",
       "      <th>1193</th>\n",
       "      <td>Apple</td>\n",
       "      <td>Ultrabook</td>\n",
       "      <td>8</td>\n",
       "      <td>0.92</td>\n",
       "      <td>0</td>\n",
       "      <td>1</td>\n",
       "      <td>226.415547</td>\n",
       "      <td>Other Intel Processor</td>\n",
       "      <td>0</td>\n",
       "      <td>0</td>\n",
       "      <td>Intel</td>\n",
       "      <td>Mac</td>\n",
       "    </tr>\n",
       "  </tbody>\n",
       "</table>\n",
       "<p>1106 rows × 12 columns</p>\n",
       "</div>"
      ],
      "text/plain": [
       "      Company            TypeName  Ram  Weight  Touchscreen  Ips         ppi  \\\n",
       "183   Toshiba            Notebook    8    2.00            0    0  100.454670   \n",
       "1141      MSI              Gaming    8    2.40            0    0  141.211998   \n",
       "1049     Asus             Netbook    4    1.20            0    0  135.094211   \n",
       "1020     Dell  2 in 1 Convertible    4    2.08            1    1  141.211998   \n",
       "878      Dell            Notebook    4    2.18            0    0  141.211998   \n",
       "...       ...                 ...  ...     ...          ...  ...         ...   \n",
       "466      Acer            Notebook    4    2.20            0    0  100.454670   \n",
       "299      Asus           Ultrabook   16    1.63            0    0  141.211998   \n",
       "493      Acer            Notebook    8    2.20            0    0  100.454670   \n",
       "527    Lenovo            Notebook    8    2.20            0    0  100.454670   \n",
       "1193    Apple           Ultrabook    8    0.92            0    1  226.415547   \n",
       "\n",
       "                  Cpu brand   HDD  SSD Gpu brand                  os  \n",
       "183           Intel Core i5     0  128     Intel             Windows  \n",
       "1141          Intel Core i7  1000  128    Nvidia             Windows  \n",
       "1049  Other Intel Processor     0    0     Intel  Others/No OS/Linux  \n",
       "1020          Intel Core i3  1000    0     Intel             Windows  \n",
       "878           Intel Core i5  1000  128    Nvidia             Windows  \n",
       "...                     ...   ...  ...       ...                 ...  \n",
       "466           Intel Core i3   500    0    Nvidia             Windows  \n",
       "299           Intel Core i7     0  512    Nvidia             Windows  \n",
       "493           AMD Processor  1000    0       AMD             Windows  \n",
       "527           Intel Core i3  2000    0    Nvidia  Others/No OS/Linux  \n",
       "1193  Other Intel Processor     0    0     Intel                 Mac  \n",
       "\n",
       "[1106 rows x 12 columns]"
      ]
     },
     "execution_count": 177,
     "metadata": {},
     "output_type": "execute_result"
    }
   ],
   "source": [
    "X_train"
   ]
  },
  {
   "cell_type": "markdown",
   "id": "669a37f9",
   "metadata": {
    "papermill": {
     "duration": 0.042618,
     "end_time": "2022-11-16T06:01:09.617356",
     "exception": false,
     "start_time": "2022-11-16T06:01:09.574738",
     "status": "completed"
    },
    "tags": []
   },
   "source": [
    "### Linear regression"
   ]
  },
  {
   "cell_type": "code",
   "execution_count": 185,
   "id": "18584428",
   "metadata": {
    "execution": {
     "iopub.execute_input": "2022-11-16T06:01:09.701558Z",
     "iopub.status.busy": "2022-11-16T06:01:09.700644Z",
     "iopub.status.idle": "2022-11-16T06:01:09.740502Z",
     "shell.execute_reply": "2022-11-16T06:01:09.739193Z"
    },
    "papermill": {
     "duration": 0.085225,
     "end_time": "2022-11-16T06:01:09.743705",
     "exception": false,
     "start_time": "2022-11-16T06:01:09.658480",
     "status": "completed"
    },
    "tags": []
   },
   "outputs": [
    {
     "name": "stdout",
     "output_type": "stream",
     "text": [
      "R2 score 0.8073277448418701\n",
      "MAE 0.21017827976428766\n"
     ]
    }
   ],
   "source": [
    "step1 = ColumnTransformer(transformers=[\n",
    "    ('col_tnf',OneHotEncoder(sparse=False,drop='first'),[0,1,7,10,11])\n",
    "],remainder='passthrough')\n",
    "\n",
    "step2 = LinearRegression()\n",
    "\n",
    "pipe = Pipeline([\n",
    "    ('step1',step1),\n",
    "    ('step2',step2)\n",
    "])\n",
    "\n",
    "pipe.fit(X_train,y_train)\n",
    "\n",
    "y_pred = pipe.predict(X_test)\n",
    "\n",
    "r1=r2_score(y_test,y_pred)\n",
    "\n",
    "print('R2 score',r2_score(y_test,y_pred))\n",
    "print('MAE',mean_absolute_error(y_test,y_pred))"
   ]
  },
  {
   "cell_type": "markdown",
   "id": "7f256f48",
   "metadata": {
    "papermill": {
     "duration": 0.055433,
     "end_time": "2022-11-16T06:01:10.347305",
     "exception": false,
     "start_time": "2022-11-16T06:01:10.291872",
     "status": "completed"
    },
    "tags": []
   },
   "source": [
    "### KNN"
   ]
  },
  {
   "cell_type": "code",
   "execution_count": 186,
   "id": "d4e38a65",
   "metadata": {
    "execution": {
     "iopub.execute_input": "2022-11-16T06:01:10.431593Z",
     "iopub.status.busy": "2022-11-16T06:01:10.431091Z",
     "iopub.status.idle": "2022-11-16T06:01:10.462307Z",
     "shell.execute_reply": "2022-11-16T06:01:10.461086Z"
    },
    "papermill": {
     "duration": 0.076669,
     "end_time": "2022-11-16T06:01:10.465359",
     "exception": false,
     "start_time": "2022-11-16T06:01:10.388690",
     "status": "completed"
    },
    "tags": []
   },
   "outputs": [
    {
     "name": "stdout",
     "output_type": "stream",
     "text": [
      "R2 score 0.8021984604448553\n",
      "MAE 0.19319716721521116\n"
     ]
    }
   ],
   "source": [
    "step1 = ColumnTransformer(transformers=[\n",
    "    ('col_tnf',OneHotEncoder(sparse=False,drop='first'),[0,1,7,10,11])\n",
    "],remainder='passthrough')\n",
    "\n",
    "step2 = KNeighborsRegressor(n_neighbors=3)\n",
    "\n",
    "pipe = Pipeline([\n",
    "    ('step1',step1),\n",
    "    ('step2',step2)\n",
    "])\n",
    "\n",
    "pipe.fit(X_train,y_train)\n",
    "\n",
    "y_pred = pipe.predict(X_test)\n",
    "\n",
    "r2=r2_score(y_test,y_pred)\n",
    "\n",
    "print('R2 score',r2_score(y_test,y_pred))\n",
    "print('MAE',mean_absolute_error(y_test,y_pred))"
   ]
  },
  {
   "cell_type": "markdown",
   "id": "abfbe450",
   "metadata": {
    "papermill": {
     "duration": 0.055892,
     "end_time": "2022-11-16T06:01:10.587385",
     "exception": false,
     "start_time": "2022-11-16T06:01:10.531493",
     "status": "completed"
    },
    "tags": []
   },
   "source": [
    "### Decision Tree"
   ]
  },
  {
   "cell_type": "code",
   "execution_count": 187,
   "id": "30264d0a",
   "metadata": {
    "execution": {
     "iopub.execute_input": "2022-11-16T06:01:10.669576Z",
     "iopub.status.busy": "2022-11-16T06:01:10.669144Z",
     "iopub.status.idle": "2022-11-16T06:01:10.694164Z",
     "shell.execute_reply": "2022-11-16T06:01:10.692991Z"
    },
    "papermill": {
     "duration": 0.070282,
     "end_time": "2022-11-16T06:01:10.697981",
     "exception": false,
     "start_time": "2022-11-16T06:01:10.627699",
     "status": "completed"
    },
    "tags": []
   },
   "outputs": [
    {
     "name": "stdout",
     "output_type": "stream",
     "text": [
      "R2 score 0.8309676535952164\n",
      "MAE 0.18653165877433367\n"
     ]
    }
   ],
   "source": [
    "import sklearn.metrics as metrics\n",
    "step1 = ColumnTransformer(transformers=[\n",
    "    ('col_tnf',OneHotEncoder(sparse=False,drop='first'),[0,1,7,10,11])\n",
    "],remainder='passthrough')\n",
    "\n",
    "step2 = DecisionTreeRegressor(max_depth=8)\n",
    "\n",
    "pipe = Pipeline([\n",
    "    ('step1',step1),\n",
    "    ('step2',step2)\n",
    "])\n",
    "\n",
    "pipe.fit(X_train,y_train)\n",
    "\n",
    "y_pred = pipe.predict(X_test)\n",
    "\n",
    "r3=r2_score(y_test,y_pred)\n",
    "\n",
    "print('R2 score',r2_score(y_test,y_pred))\n",
    "print('MAE',mean_absolute_error(y_test,y_pred))"
   ]
  },
  {
   "cell_type": "markdown",
   "id": "7f27a364",
   "metadata": {
    "papermill": {
     "duration": 0.040603,
     "end_time": "2022-11-16T06:01:11.825757",
     "exception": false,
     "start_time": "2022-11-16T06:01:11.785154",
     "status": "completed"
    },
    "tags": []
   },
   "source": [
    "### Random Forest"
   ]
  },
  {
   "cell_type": "code",
   "execution_count": 194,
   "id": "bd9cc832",
   "metadata": {
    "execution": {
     "iopub.execute_input": "2022-11-16T06:01:11.911369Z",
     "iopub.status.busy": "2022-11-16T06:01:11.910652Z",
     "iopub.status.idle": "2022-11-16T06:01:12.218108Z",
     "shell.execute_reply": "2022-11-16T06:01:12.216512Z"
    },
    "papermill": {
     "duration": 0.353116,
     "end_time": "2022-11-16T06:01:12.220637",
     "exception": false,
     "start_time": "2022-11-16T06:01:11.867521",
     "status": "completed"
    },
    "tags": []
   },
   "outputs": [
    {
     "name": "stdout",
     "output_type": "stream",
     "text": [
      "R2 score 0.8873402378382488\n"
     ]
    }
   ],
   "source": [
    "step1 = ColumnTransformer(transformers=[\n",
    "    ('col_tnf',OneHotEncoder(sparse=False,drop='first'),[0,1,7,10,11])\n",
    "],remainder='passthrough')\n",
    "\n",
    "step2 = RandomForestRegressor(n_estimators=100,\n",
    "                              random_state=3,\n",
    "                              max_samples=0.5,\n",
    "                              max_features=0.75,\n",
    "                              max_depth=15)\n",
    "\n",
    "pipe = Pipeline([\n",
    "    ('step1',step1),\n",
    "    ('step2',step2)\n",
    "])\n",
    "\n",
    "pipe.fit(X_train,y_train)\n",
    "\n",
    "y_pred = pipe.predict(X_test)\n",
    "\n",
    "r4=r2_score(y_test,y_pred)\n",
    "\n",
    "print('R2 score',r2_score(y_test,y_pred))\n",
    "print('MAE',mean_absolute_error(y_test,y_pred))"
   ]
  }
 ],
 "metadata": {
  "kernelspec": {
   "display_name": "Python 3 (ipykernel)",
   "language": "python",
   "name": "python3"
  },
  "language_info": {
   "codemirror_mode": {
    "name": "ipython",
    "version": 3
   },
   "file_extension": ".py",
   "mimetype": "text/x-python",
   "name": "python",
   "nbconvert_exporter": "python",
   "pygments_lexer": "ipython3",
   "version": "3.9.12"
  },
  "papermill": {
   "default_parameters": {},
   "duration": 35.846483,
   "end_time": "2022-11-16T06:01:21.455961",
   "environment_variables": {},
   "exception": null,
   "input_path": "__notebook__.ipynb",
   "output_path": "__notebook__.ipynb",
   "parameters": {},
   "start_time": "2022-11-16T06:00:45.609478",
   "version": "2.3.4"
  }
 },
 "nbformat": 4,
 "nbformat_minor": 5
}
